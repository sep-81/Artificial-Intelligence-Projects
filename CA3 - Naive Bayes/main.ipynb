{
 "cells": [
  {
   "cell_type": "code",
   "execution_count": 1,
   "metadata": {},
   "outputs": [],
   "source": [
    "from __future__ import unicode_literals\n",
    "from hazm import *\n",
    "from bidi.algorithm import get_display\n",
    "import matplotlib.pyplot as plt\n",
    "import arabic_reshaper\n",
    "import pandas as pd\n",
    "from operator import itemgetter\n",
    "from math import log\n",
    "\n",
    "stemmer = Stemmer()\n",
    "normalizer = Normalizer()\n",
    "lemmatizer = Lemmatizer()\n",
    "tokenizer = WordTokenizer()\n"
   ]
  },
  {
   "cell_type": "code",
   "execution_count": 2,
   "metadata": {},
   "outputs": [
    {
     "name": "stdout",
     "output_type": "stream",
     "text": [
      "    label                                            content\n",
      "0  فناوری  گزارش های منتشر شده حاکی از آن است که کاربران ...\n",
      "1   ورزشی  سوپر استار سینما و از قهرمانان سابق ووشو ــ کو...\n",
      "2   حوادث  مدیرعامل شرکت عمران آب کیش از فوت یک نفر در آت...\n",
      "3  فناوری  یک نوجوان انگلیسی به اتهام هک حساب‌های کاربری ...\n",
      "4   سلامت  دانشمندان در جدیدترین مطالعات خود اثرات جدید و...\n"
     ]
    }
   ],
   "source": [
    "train_data = pd.read_csv('train.csv', encoding='utf-8')\n",
    "test_data = pd.read_csv('test.csv')\n",
    "print(train_data.head())"
   ]
  },
  {
   "cell_type": "code",
   "execution_count": 3,
   "metadata": {},
   "outputs": [
    {
     "name": "stdout",
     "output_type": "stream",
     "text": [
      "<class 'pandas.core.frame.DataFrame'>\n",
      "RangeIndex: 9000 entries, 0 to 8999\n",
      "Data columns (total 2 columns):\n",
      " #   Column   Non-Null Count  Dtype \n",
      "---  ------   --------------  ----- \n",
      " 0   label    9000 non-null   object\n",
      " 1   content  9000 non-null   object\n",
      "dtypes: object(2)\n",
      "memory usage: 140.8+ KB\n",
      "['فناوری' 'ورزشی' 'حوادث' 'سلامت' 'سیاسی' 'فرهنگی/هنری']\n"
     ]
    },
    {
     "data": {
      "text/plain": [
       "1500"
      ]
     },
     "execution_count": 3,
     "metadata": {},
     "output_type": "execute_result"
    }
   ],
   "source": [
    "train_data.info()\n",
    "labels = train_data['label'].unique()\n",
    "print(labels)\n",
    "label_count = train_data['label'].value_counts()[0]\n",
    "label_count"
   ]
  },
  {
   "attachments": {},
   "cell_type": "markdown",
   "metadata": {},
   "source": [
    "\n",
    "\n",
    "PRE-PROCESSING\n",
    "\n"
   ]
  },
  {
   "cell_type": "code",
   "execution_count": 4,
   "metadata": {},
   "outputs": [
    {
     "name": "stdout",
     "output_type": "stream",
     "text": [
      "اصلاح نویسه‌ها و استفاده از نیم فاصله پردازش را آسان می‌کند\n",
      "['اصلاح', 'نویسه', 'ها', 'و', 'استفاده', 'از', 'نیم', 'فاصله', 'پردازش', 'را', 'آسان', 'می', 'کند']\n"
     ]
    }
   ],
   "source": [
    "print(normalizer.normalize('اصلاح نویسه ها و استفاده از نیم فاصله پردازش را آسان می کند'))\n",
    "print(tokenizer.tokenize('اصلاح نویسه ها و استفاده از نیم فاصله پردازش را آسان می کند'))\n"
   ]
  },
  {
   "cell_type": "code",
   "execution_count": 5,
   "metadata": {},
   "outputs": [
    {
     "name": "stdout",
     "output_type": "stream",
     "text": [
      "شد#شو\n"
     ]
    }
   ],
   "source": [
    "print(lemmatizer.lemmatize('شد'))"
   ]
  },
  {
   "cell_type": "code",
   "execution_count": 6,
   "metadata": {},
   "outputs": [
    {
     "name": "stdout",
     "output_type": "stream",
     "text": [
      "1377\n",
      "1052\n",
      "True\n"
     ]
    }
   ],
   "source": [
    "stop_words = []\n",
    "stop_words = stopwords_list() + [',', '.', '-', '*', '#', '...', '»', '«',\n",
    " '!', '?', '{', '}', '(', ')', '[', ']',\n",
    "     '$', '&', '،', '؛', ':', '؟', '\\n','\\r',]\n",
    "def get_stop_words(flags: list =  [False, True]):\n",
    "  flag_stem, flag_lem = flags\n",
    "  with open('stop_words.txt', 'r', encoding=\"utf-8\") as sws:\n",
    "    inStr = sws.read()\n",
    "  inStr = normalizer.normalize(inStr)\n",
    "  stop_words = inStr.split('\\n')\n",
    "  stop_words = list(map(str.strip, stop_words))\n",
    "  # stop_words = normalizer.normalize(' '.join(stop_words)).split(' ')\n",
    "\n",
    "  stop_words = list(map(stemmer.stem, stop_words)) if flag_stem else stop_words\n",
    "  stop_words = list(map(lemmatizer.lemmatize, stop_words)) if flag_lem else stop_words\n",
    "\n",
    "  stop_words.extend(['\\n','\\r'])\n",
    "  print(len(stop_words))\n",
    "  stop_words = list(set(stop_words))\n",
    "  print(len(stop_words))\n",
    "  return stop_words \n",
    "stop_words = [] \n",
    "stop_words = get_stop_words()\n",
    "# temp = get_stop_words([True, True])\n",
    "# for word in stop_words:\n",
    "#   if word not in temp:\n",
    "#     print(word)\n",
    "#     print(stemmer.stem(word))\n",
    "\n",
    "len(stop_words)\n",
    "print(\"شد#شو\" in stop_words)\n"
   ]
  },
  {
   "cell_type": "code",
   "execution_count": 7,
   "metadata": {},
   "outputs": [
    {
     "name": "stdout",
     "output_type": "stream",
     "text": [
      "['ولی', 'برای', 'پردازش', '،', 'جدا', 'بهتر', 'نیست', '؟']\n",
      "['ولی', 'برای', 'پردازش', '،', 'جدا', 'بهتر', 'نیست', '؟']\n"
     ]
    }
   ],
   "source": [
    "s = word_tokenize('ولی برای پردازش، جدا بهتر نیست؟')\n",
    "print(s)\n",
    "s = tokenizer.tokenize('ولی برای پردازش، جدا بهتر نیست؟')\n",
    "print(s)"
   ]
  },
  {
   "cell_type": "code",
   "execution_count": 8,
   "metadata": {},
   "outputs": [],
   "source": [
    "def prepareTxt(inStr, flags: list =  [False, True]):\n",
    "  flag_stem, flag_lem = flags\n",
    "  result = normalizer.normalize(inStr)\n",
    "  result = tokenizer.tokenize(result)\n",
    "  result = list(map(stemmer.stem, result)) if flag_stem else result\n",
    "  result = list(map(lemmatizer.lemmatize, result)) if flag_lem else result\n",
    "  result = list(set(result))\n",
    "  result = [w for w in result if w not in stop_words]\n",
    "  return result\n"
   ]
  },
  {
   "cell_type": "code",
   "execution_count": 9,
   "metadata": {},
   "outputs": [
    {
     "name": "stdout",
     "output_type": "stream",
     "text": [
      "0    1\n",
      "1    9\n",
      "2    4\n",
      "Name: a, dtype: int64 \n",
      " RangeIndex(start=0, stop=3, step=1)\n",
      "Pandas(Index=0, a=1, b=6.5) \n",
      "hooyah\n",
      " <class 'pandas.core.frame.Pandas'> 1 1\n",
      "a    1.0\n",
      "b    6.5\n",
      "Name: 0, dtype: float64 <class 'pandas.core.series.Series'>\n"
     ]
    }
   ],
   "source": [
    "d = pd.DataFrame([[1,6.5], [9, 4.5], [4, 5.5]], columns=['a', 'b'])\n",
    "print(d['a'], '\\n', d.index)\n",
    "# print(d.info())\n",
    "temp = d.itertuples()\n",
    "temp = temp.__next__()\n",
    "print(temp, '\\nhooyah\\n', type(temp), temp[1], temp.a)\n",
    "temp = d.iterrows()\n",
    "temp = temp.__next__()[1]\n",
    "print(temp, type(temp))\n",
    "# print(temp.__next__()[1], type(temp))"
   ]
  },
  {
   "attachments": {},
   "cell_type": "markdown",
   "metadata": {},
   "source": [
    "### ***Phaze 2***\n"
   ]
  },
  {
   "cell_type": "code",
   "execution_count": 10,
   "metadata": {},
   "outputs": [
    {
     "name": "stdout",
     "output_type": "stream",
     "text": [
      "{'فناوری': {}, 'ورزشی': {}, 'حوادث': {}, 'سلامت': {}, 'سیاسی': {}, 'فرهنگی/هنری': {}}\n"
     ]
    }
   ],
   "source": [
    "# tech, sport, accidents, health, political, cultur = [dict() * 6]\n",
    "tables = {label: {} for label in labels}\n",
    "print(tables)\n",
    "def cal_tables(df: pd.DataFrame, default: int =0):\n",
    "  for row in df.itertuples():\n",
    "    words = prepareTxt(row.content)\n",
    "    cur_label = row.label\n",
    "    for word in words:\n",
    "       tables[cur_label][word] = tables[cur_label].get(word, default) + 1 \n",
    "\n",
    "cal_tables(train_data)"
   ]
  },
  {
   "cell_type": "code",
   "execution_count": 11,
   "metadata": {},
   "outputs": [
    {
     "name": "stdout",
     "output_type": "stream",
     "text": [
      "شرکت\n"
     ]
    },
    {
     "data": {
      "image/png": "[encoded data removed]",
      "text/plain": [
       "<Figure size 640x480 with 1 Axes>"
      ]
     },
     "metadata": {},
     "output_type": "display_data"
    },
    {
     "name": "stdout",
     "output_type": "stream",
     "text": [
      "گزارش\n"
     ]
    },
    {
     "data": {
      "image/png": "[encoded data removed]",
      "text/plain": [
       "<Figure size 640x480 with 1 Axes>"
      ]
     },
     "metadata": {},
     "output_type": "display_data"
    },
    {
     "name": "stdout",
     "output_type": "stream",
     "text": [
      "گزارش\n"
     ]
    },
    {
     "data": {
      "image/png": "[encoded data removed]",
      "text/plain": [
       "<Figure size 640x480 with 1 Axes>"
      ]
     },
     "metadata": {},
     "output_type": "display_data"
    },
    {
     "name": "stdout",
     "output_type": "stream",
     "text": [
      "افراد\n"
     ]
    },
    {
     "data": {
      "image/png": "[encoded data removed]",
      "text/plain": [
       "<Figure size 640x480 with 1 Axes>"
      ]
     },
     "metadata": {},
     "output_type": "display_data"
    },
    {
     "name": "stdout",
     "output_type": "stream",
     "text": [
      "کشور\n"
     ]
    },
    {
     "data": {
      "image/png": "[encoded data removed]",
      "text/plain": [
       "<Figure size 640x480 with 1 Axes>"
      ]
     },
     "metadata": {},
     "output_type": "display_data"
    },
    {
     "name": "stdout",
     "output_type": "stream",
     "text": [
      "گزارش\n"
     ]
    },
    {
     "data": {
      "image/png": "[encoded data removed]",
      "text/plain": [
       "<Figure size 640x480 with 1 Axes>"
      ]
     },
     "metadata": {},
     "output_type": "display_data"
    },
    {
     "name": "stdout",
     "output_type": "stream",
     "text": [
      "('a', 1)\n",
      "('b', 2)\n"
     ]
    }
   ],
   "source": [
    "def draw_cat_table(cat_title: str, table: dict):\n",
    "  res = dict(sorted(table.items(), key=itemgetter(1), reverse=True)[:5])\n",
    "  print(list(res.keys())[0])\n",
    "  plt.bar(list(map(lambda label: label[::-1],res.keys())), res.values())\n",
    "  reshaped_text = arabic_reshaper.reshape(cat_title)\n",
    "  artext = get_display(reshaped_text)\n",
    "  # plt.xlabel(cat_title[::-1])\n",
    "  plt.xlabel(artext)\n",
    "  plt.ylabel('count')\n",
    "  plt.show()\n",
    "for cat, table in tables.items():\n",
    "  draw_cat_table(cat, table)\n",
    "a = {'a': 1, 'b': 2}\n",
    "for x in a.items():\n",
    "  print(x)"
   ]
  },
  {
   "attachments": {},
   "cell_type": "markdown",
   "metadata": {},
   "source": [
    "### ***Phaze 3***"
   ]
  },
  {
   "cell_type": "code",
   "execution_count": 12,
   "metadata": {},
   "outputs": [],
   "source": [
    "def cal_table_words_prob(table):\n",
    "  probs = dict()\n",
    "  total = sum(table.values())\n",
    "  for word, count in table.items():\n",
    "    probs[word] = log(count/total)\n",
    "  return probs  \n",
    "\n",
    "prob_tables = {label: {} for label in labels}\n",
    "for label in labels:\n",
    "  prob_tables[label] = cal_table_words_prob(tables[label])\n",
    "\n",
    "def cal_cat_bayes(word: str, table: dict, default: int = 0):\n",
    "  if default == 0:\n",
    "    if word not in table:\n",
    "      return float('-inf')\n",
    "    return table[word] #log(table[word]/label_count)\n",
    "  else:\n",
    "    return log((table.get(word, default)+default)/(label_count+default*len(table)))\n",
    "\n",
    "def cal_bayes(content: str, default: int = 0):\n",
    "  probs = {label: 0 for label in labels}\n",
    "  words = prepareTxt(content)\n",
    "  for word in words:\n",
    "    for label in labels:\n",
    "      table = prob_tables[label] if default == 0 else tables[label]\n",
    "      probs[label] += cal_cat_bayes(word, table, default)\n",
    "  return max(probs.items(), key=itemgetter(1))[0]\n",
    "\n",
    "    \n",
    "\n"
   ]
  },
  {
   "cell_type": "code",
   "execution_count": 24,
   "metadata": {},
   "outputs": [],
   "source": [
    "def print_cat_info(label, percision, f1, recall):\n",
    "  print('\\n')\n",
    "  print(\"\\tcategory:\", label)\n",
    "  print(\"\\tPrecision:\", percision)\n",
    "  print(\"\\tF1:\", f1)\n",
    "  print(\"\\tRecall:\", recall)\n",
    "  print('\\n')\n",
    "\n",
    "def cal(tp, fp, total, correct):\n",
    "  fWeight = 0\n",
    "  fAve = 0\n",
    "  for label in labels:\n",
    "    precision = tp[label] / (tp[label] + fp[label])\n",
    "    recall = tp[label] / (total[label])\n",
    "    f1 = (2*precision*recall)/(precision+recall)\n",
    "    print_cat_info(label, precision, f1, recall)\n",
    "    fAve += (f1/6)\n",
    "    fWeight += (f1 * (total[label]/sum(total.values())))\n",
    "  print(\"accuracy: \", correct/sum(total.values()))\n",
    "  print(\"macro Ave: \", fAve)\n",
    "  print(\"micro Ave: \", correct/sum(total.values()))\n",
    "  print(\"weighted Avg: \", fWeight)\n",
    "\n",
    "tps = {label: 0 for label in labels}\n",
    "fps = {label: 0 for label in labels}\n",
    "cat_count = {label: 0 for label in labels}\n",
    "\n",
    "def naive_bayes(df, default: int = 0):\n",
    "  for row in df.itertuples():\n",
    "    predic_label = cal_bayes(row.content, default)\n",
    "    grnd_true_label = row.label\n",
    "    cat_count[row.label] += 1\n",
    "    if predic_label == grnd_true_label:\n",
    "      tps[row.label] += 1\n",
    "      global total_correct\n",
    "      total_correct += 1\n",
    "    else:\n",
    "      fps[predic_label] +=1\n",
    "  \n",
    "    "
   ]
  },
  {
   "cell_type": "code",
   "execution_count": 25,
   "metadata": {},
   "outputs": [
    {
     "name": "stdout",
     "output_type": "stream",
     "text": [
      "\n",
      "\n",
      "\tcategory: فناوری\n",
      "\tPrecision: 0.18461538461538463\n",
      "\tF1: 0.3116883116883117\n",
      "\tRecall: 1.0\n",
      "\n",
      "\n",
      "\n",
      "\n",
      "\tcategory: ورزشی\n",
      "\tPrecision: 0.9347826086956522\n",
      "\tF1: 0.364406779661017\n",
      "\tRecall: 0.22631578947368422\n",
      "\n",
      "\n",
      "\n",
      "\n",
      "\tcategory: حوادث\n",
      "\tPrecision: 0.8484848484848485\n",
      "\tF1: 0.240343347639485\n",
      "\tRecall: 0.14\n",
      "\n",
      "\n",
      "\n",
      "\n",
      "\tcategory: سلامت\n",
      "\tPrecision: 0.9230769230769231\n",
      "\tF1: 0.23645320197044334\n",
      "\tRecall: 0.13559322033898305\n",
      "\n",
      "\n",
      "\n",
      "\n",
      "\tcategory: سیاسی\n",
      "\tPrecision: 0.8181818181818182\n",
      "\tF1: 0.35294117647058826\n",
      "\tRecall: 0.225\n",
      "\n",
      "\n",
      "\n",
      "\n",
      "\tcategory: فرهنگی/هنری\n",
      "\tPrecision: 0.8666666666666667\n",
      "\tF1: 0.3466666666666666\n",
      "\tRecall: 0.21666666666666667\n",
      "\n",
      "\n",
      "accuracy:  0.3112107623318386\n",
      "macro Ave:  0.3087499140160853\n",
      "micro Ave:  0.3112107623318386\n",
      "weighted Avg:  0.3089776197937333\n",
      "\n",
      "\n",
      "\n",
      "-------------------------------------------------\n",
      "\n",
      "\n",
      "\tcategory: فناوری\n",
      "\tPrecision: 0.925\n",
      "\tF1: 0.9024390243902439\n",
      "\tRecall: 0.8809523809523809\n",
      "\n",
      "\n",
      "\n",
      "\n",
      "\tcategory: ورزشی\n",
      "\tPrecision: 0.9782608695652174\n",
      "\tF1: 0.9625668449197862\n",
      "\tRecall: 0.9473684210526315\n",
      "\n",
      "\n",
      "\n",
      "\n",
      "\tcategory: حوادث\n",
      "\tPrecision: 0.8909090909090909\n",
      "\tF1: 0.9333333333333333\n",
      "\tRecall: 0.98\n",
      "\n",
      "\n",
      "\n",
      "\n",
      "\tcategory: سلامت\n",
      "\tPrecision: 0.918918918918919\n",
      "\tF1: 0.9392265193370166\n",
      "\tRecall: 0.96045197740113\n",
      "\n",
      "\n",
      "\n",
      "\n",
      "\tcategory: سیاسی\n",
      "\tPrecision: 0.758893280632411\n",
      "\tF1: 0.8476821192052979\n",
      "\tRecall: 0.96\n",
      "\n",
      "\n",
      "\n",
      "\n",
      "\tcategory: فرهنگی/هنری\n",
      "\tPrecision: 0.9911504424778761\n",
      "\tF1: 0.764505119453925\n",
      "\tRecall: 0.6222222222222222\n",
      "\n",
      "\n",
      "accuracy:  0.895067264573991\n",
      "macro Ave:  0.8916254934399338\n",
      "micro Ave:  0.895067264573991\n",
      "weighted Avg:  0.8919771861564171\n"
     ]
    }
   ],
   "source": [
    "total_correct = 0\n",
    "\n",
    "naive_bayes(test_data)\n",
    "cal(tps, fps, cat_count, total_correct)\n",
    "print(\"\\n\\n\\n-------------------------------------------------\")\n",
    "\n",
    "\n",
    "tps = {label: 0 for label in labels}\n",
    "fps = {label: 0 for label in labels}\n",
    "cat_count = {label: 0 for label in labels}\n",
    "total_correct = 0\n",
    "\n",
    "naive_bayes(test_data, 1)\n",
    "cal(tps, fps, cat_count, total_correct)\n"
   ]
  },
  {
   "cell_type": "code",
   "execution_count": null,
   "metadata": {},
   "outputs": [],
   "source": [
    "dic = {'a': 1, 'b': 2}\n",
    "print(max(dic.items(),key=itemgetter(1))[0])\n",
    "max()"
   ]
  }
 ],
 "metadata": {
  "kernelspec": {
   "display_name": "base",
   "language": "python",
   "name": "python3"
  },
  "language_info": {
   "codemirror_mode": {
    "name": "ipython",
    "version": 3
   },
   "file_extension": ".py",
   "mimetype": "text/x-python",
   "name": "python",
   "nbconvert_exporter": "python",
   "pygments_lexer": "ipython3",
   "version": "3.9.13 (main, Aug 25 2022, 23:51:50) [MSC v.1916 64 bit (AMD64)]"
  },
  "orig_nbformat": 4,
  "vscode": {
   "interpreter": {
    "hash": "65be5b36f1fc7baeeadc69cdae34574f5fd163f80776db4c4f4f220f311aad06"
   }
  }
 },
 "nbformat": 4,
 "nbformat_minor": 2
}
